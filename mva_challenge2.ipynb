{
 "cells": [
  {
   "cell_type": "code",
   "execution_count": 1,
   "metadata": {
    "collapsed": true
   },
   "outputs": [],
   "source": [
    "import numpy as np\n",
    "from numpy import genfromtxt\n",
    "import matplotlib.pyplot as plt\n",
    "path_to_data = \"./Data/\"\n",
    "import pandas as pd"
   ]
  },
  {
   "cell_type": "code",
   "execution_count": 2,
   "metadata": {
    "collapsed": true
   },
   "outputs": [],
   "source": [
    "x_train = pd.read_csv(path_to_data + 'Xtr.csv', sep = ',',header=None)\n",
    "to_drop = x_train.columns[-1]\n",
    "x_train = x_train.drop(to_drop,axis=1)"
   ]
  },
  {
   "cell_type": "code",
   "execution_count": null,
   "metadata": {
    "collapsed": false
   },
   "outputs": [],
   "source": [
    "x_train2 = genfromtxt(path_to_data + 'Xtr.csv', delimiter = ',')"
   ]
  },
  {
   "cell_type": "code",
   "execution_count": 3,
   "metadata": {
    "collapsed": true
   },
   "outputs": [],
   "source": [
    "y_train = pd.read_csv(path_to_data + 'ytr.csv', sep = ',')"
   ]
  },
  {
   "cell_type": "code",
   "execution_count": 4,
   "metadata": {
    "collapsed": true
   },
   "outputs": [],
   "source": [
    "x_test = pd.read_csv(path_to_data + 'Xte.csv', sep = ',',header=None)\n",
    "to_drop = x_test.columns[-1]\n",
    "x_test = x_test.drop(to_drop,axis=1)"
   ]
  },
  {
   "cell_type": "code",
   "execution_count": null,
   "metadata": {
    "collapsed": true
   },
   "outputs": [],
   "source": [
    "x_test2 = genfromtxt(path_to_data + 'Xte.csv', delimiter = ',')"
   ]
  },
  {
   "cell_type": "code",
   "execution_count": 5,
   "metadata": {
    "collapsed": false
   },
   "outputs": [],
   "source": [
    "import svm_solver\n",
    "import kernels\n",
    "import cvxopt"
   ]
  },
  {
   "cell_type": "code",
   "execution_count": null,
   "metadata": {
    "collapsed": true
   },
   "outputs": [],
   "source": [
    "# reshape the arrays\n",
    "def ar_reshape(array, image_size = 1024):\n",
    "    reshaped_ar = array.T[:-1].T.reshape(len(array),3,image_size)\n",
    "    result = np.empty([len(array), image_size, 3])\n",
    "    for i in range(len(reshaped_ar)):\n",
    "        result[i] = reshaped_ar[i].T\n",
    "    return result"
   ]
  },
  {
   "cell_type": "code",
   "execution_count": null,
   "metadata": {
    "collapsed": false
   },
   "outputs": [],
   "source": [
    "x_tr_rs = ar_reshape(x_train2)\n",
    "x_te_rs = ar_reshape(x_test2)"
   ]
  },
  {
   "cell_type": "code",
   "execution_count": null,
   "metadata": {
    "collapsed": false
   },
   "outputs": [],
   "source": [
    "# show images\n",
    "\n",
    "def im_show(array, image_size = 1024):\n",
    "    size = np.sqrt(image_size)\n",
    "    reshaped_ar = array.reshape(size, size, 3)\n",
    "    plt.gray()\n",
    "    plt.imshow(reshaped_ar)\n",
    "    plt.show()\n"
   ]
  },
  {
   "cell_type": "code",
   "execution_count": null,
   "metadata": {
    "collapsed": false,
    "scrolled": true
   },
   "outputs": [],
   "source": [
    "for i in range(1):\n",
    "    im_show(x_tr_rs[i]+0.5)\n",
    "    print(y_train.Prediction[i])"
   ]
  },
  {
   "cell_type": "markdown",
   "metadata": {
    "collapsed": false
   },
   "source": [
    "# Classification : basic SVM classifier with scikit learn"
   ]
  },
  {
   "cell_type": "code",
   "execution_count": null,
   "metadata": {
    "collapsed": false
   },
   "outputs": [],
   "source": [
    "from sklearn.svm import SVC\n",
    "from sklearn.metrics import accuracy_score\n",
    "\n",
    "from sklearn.model_selection import train_test_split\n",
    "from sklearn.model_selection import GridSearchCV\n",
    "from sklearn.metrics import classification_report\n",
    "\n",
    "tuned_parameters = [{'kernel': ['rbf'], 'gamma': [1e-3],\n",
    "                     'C': [100]}]\n",
    "#tuned_parameters = [{'kernel': ['rbf'], 'gamma': [1e-3, 1e-4],\n",
    "#                     'C': [1, 10, 100, 1000]},\n",
    "#                    {'kernel': ['linear'], 'C': [1, 10, 100, 1000]}]\n",
    "\n",
    "scores = ['precision', 'recall']\n",
    "\n",
    "\n",
    "for score in scores:\n",
    "    clf = GridSearchCV(SVC(C=1), tuned_parameters, cv=5,\n",
    "                       scoring='%s_macro' % score)\n",
    "    clf.fit(x_train[:,:-1], y_train[:,-1])\n",
    "\n",
    "    means = clf.cv_results_['mean_test_score']\n",
    "    stds = clf.cv_results_['std_test_score']\n",
    "    y_true, y_pred = y_test, clf.predict(x_test[:,:-1])\n",
    "    print(classification_report(y_true, y_pred))\n",
    "    print()"
   ]
  },
  {
   "cell_type": "markdown",
   "metadata": {
    "collapsed": false
   },
   "source": [
    "## Classification with svm solver 1 vs all :"
   ]
  },
  {
   "cell_type": "code",
   "execution_count": 6,
   "metadata": {
    "collapsed": false
   },
   "outputs": [],
   "source": [
    "clfmulti = svm_solver.SVM_multiclass(kernels.linear_kernel,C=1,nb_classes=np.unique(y_train.Prediction.values).size)\n"
   ]
  },
  {
   "cell_type": "code",
   "execution_count": 7,
   "metadata": {
    "collapsed": false
   },
   "outputs": [
    {
     "data": {
      "text/plain": [
       "10"
      ]
     },
     "execution_count": 7,
     "metadata": {},
     "output_type": "execute_result"
    }
   ],
   "source": [
    "np.unique(y_train.Prediction.values).size"
   ]
  },
  {
   "cell_type": "code",
   "execution_count": 8,
   "metadata": {
    "collapsed": false
   },
   "outputs": [],
   "source": [
    "K = pd.read_csv(\"kernel_matrix_linear.csv\",sep=',',header=None)"
   ]
  },
  {
   "cell_type": "code",
   "execution_count": null,
   "metadata": {
    "collapsed": false
   },
   "outputs": [],
   "source": [
    "K"
   ]
  },
  {
   "cell_type": "code",
   "execution_count": 9,
   "metadata": {
    "collapsed": false
   },
   "outputs": [
    {
     "name": "stdout",
     "output_type": "stream",
     "text": [
      "Fitting all classifiers\n",
      "Computing mu\n",
      "Computing b\n",
      "Computing mu\n",
      "Computing b\n",
      "Computing mu\n",
      "Computing b\n",
      "Computing mu\n",
      "Computing b\n",
      "Computing mu\n",
      "Computing b\n",
      "Computing mu\n",
      "Computing b\n",
      "Computing mu\n",
      "Computing b\n",
      "Computing mu\n",
      "Computing b\n",
      "Computing mu\n",
      "Computing b\n",
      "Computing mu\n",
      "Computing b\n"
     ]
    }
   ],
   "source": [
    "clfmulti.fit(x_train.values,y_train.Prediction.values,precomputed=True,p_kernel=K.values)"
   ]
  },
  {
   "cell_type": "code",
   "execution_count": 16,
   "metadata": {
    "collapsed": false
   },
   "outputs": [
    {
     "name": "stdout",
     "output_type": "stream",
     "text": [
      "Computing kernel matrix...\n",
      "Computing decision...\n"
     ]
    },
    {
     "data": {
      "text/plain": [
       "array([-1., -1., -1., -1., -1., -1., -1., -1., -1., -1., -1., -1., -1.,\n",
       "        1., -1., -1., -1., -1., -1., -1., -1., -1., -1., -1., -1., -1.,\n",
       "       -1., -1., -1., -1., -1., -1., -1., -1., -1., -1., -1., -1., -1.,\n",
       "       -1., -1., -1., -1., -1., -1., -1., -1., -1., -1., -1.])"
      ]
     },
     "execution_count": 16,
     "metadata": {},
     "output_type": "execute_result"
    }
   ],
   "source": [
    "np.sign(clfmulti.clf[0].predict_margin(x_train.values[0::100]))"
   ]
  },
  {
   "cell_type": "code",
   "execution_count": 17,
   "metadata": {
    "collapsed": false
   },
   "outputs": [
    {
     "name": "stdout",
     "output_type": "stream",
     "text": [
      "Computing kernel matrix...\n",
      "Computing decision...\n"
     ]
    },
    {
     "data": {
      "text/plain": [
       "array([False, False, False, False, False, False, False, False, False,\n",
       "       False, False, False, False, False, False, False, False, False,\n",
       "       False, False, False, False,  True, False, False, False, False,\n",
       "       False, False, False, False, False, False, False, False, False,\n",
       "       False, False, False, False, False, False, False, False, False,\n",
       "       False, False, False, False, False], dtype=bool)"
      ]
     },
     "execution_count": 17,
     "metadata": {},
     "output_type": "execute_result"
    }
   ],
   "source": [
    "np.sign(clfmulti.clf[1].predict_margin(x_train.values[0::100]))==1"
   ]
  },
  {
   "cell_type": "code",
   "execution_count": 18,
   "metadata": {
    "collapsed": false
   },
   "outputs": [
    {
     "data": {
      "text/plain": [
       "array([8, 7, 0, 1, 0, 6, 5, 8, 6, 2, 1, 5, 7, 0, 6, 6, 2, 1, 3, 3, 3, 2, 1,\n",
       "       9, 9, 7, 8, 7, 9, 4, 7, 3, 8, 2, 5, 7, 3, 8, 2, 2, 2, 5, 8, 5, 7, 3,\n",
       "       8, 0, 6, 3])"
      ]
     },
     "execution_count": 18,
     "metadata": {},
     "output_type": "execute_result"
    }
   ],
   "source": [
    "y_train.Prediction.values[0::100]"
   ]
  },
  {
   "cell_type": "code",
   "execution_count": 20,
   "metadata": {
    "collapsed": false
   },
   "outputs": [
    {
     "name": "stdout",
     "output_type": "stream",
     "text": [
      "Computing kernel matrix...\n",
      "Computing decision...\n",
      "Computing kernel matrix...\n",
      "Computing decision...\n",
      "Computing kernel matrix...\n",
      "Computing decision...\n",
      "Computing kernel matrix...\n",
      "Computing decision...\n",
      "Computing kernel matrix...\n",
      "Computing decision...\n",
      "Computing kernel matrix...\n",
      "Computing decision...\n",
      "Computing kernel matrix...\n",
      "Computing decision...\n",
      "Computing kernel matrix...\n",
      "Computing decision...\n",
      "Computing kernel matrix...\n",
      "Computing decision...\n",
      "Computing kernel matrix...\n",
      "Computing decision...\n"
     ]
    }
   ],
   "source": [
    "predictions = np.asarray([clfmulti.clf[i].predict_margin(x_train.values[0:100]) for i in range(clfmulti.nb_classes)])"
   ]
  },
  {
   "cell_type": "code",
   "execution_count": 24,
   "metadata": {
    "collapsed": false
   },
   "outputs": [
    {
     "data": {
      "text/plain": [
       "87"
      ]
     },
     "execution_count": 24,
     "metadata": {},
     "output_type": "execute_result"
    }
   ],
   "source": [
    "(np.argmax(predictions,axis=0)==y_train.Prediction.values[0:100]).sum()"
   ]
  },
  {
   "cell_type": "code",
   "execution_count": null,
   "metadata": {
    "collapsed": true
   },
   "outputs": [],
   "source": []
  }
 ],
 "metadata": {
  "anaconda-cloud": {},
  "kernelspec": {
   "display_name": "Python 3",
   "language": "python",
   "name": "python3"
  },
  "language_info": {
   "codemirror_mode": {
    "name": "ipython",
    "version": 3
   },
   "file_extension": ".py",
   "mimetype": "text/x-python",
   "name": "python",
   "nbconvert_exporter": "python",
   "pygments_lexer": "ipython3",
   "version": "3.5.2"
  }
 },
 "nbformat": 4,
 "nbformat_minor": 1
}
